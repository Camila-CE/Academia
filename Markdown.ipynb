{
 "cells": [
  {
   "cell_type": "markdown",
   "metadata": {},
   "source": [
    "El lenguage o sintaxis que jupyter y otros servidores como github usan para intepretar texto decorado se llama Markdown. Puedes encontrar una guía básica en los siguientes enlaces:\n",
    "\n",
    "https://guides.github.com/features/mastering-markdown/  \n",
    "https://help.github.com/articles/basic-writing-and-formatting-syntax/  \n",
    "https://daringfireball.net/projects/markdown/syntax  \n",
    "https://github.com/adam-p/markdown-here/wiki/Markdown-Cheatsheet  \n",
    "https://www.markdownguide.org/basic-syntax/  \n",
    "\n",
    "Algunos servidores o aplicaciones pueden tener sus peculiaridades así que siempre es mejor echarle un ojo a la documentación específica, en este de jupyter:\n",
    "\n",
    "https://jupyter-notebook.readthedocs.io/en/stable/examples/Notebook/Working%20With%20Markdown%20Cells.html"
   ]
  },
  {
   "cell_type": "code",
   "execution_count": null,
   "metadata": {},
   "outputs": [],
   "source": []
  }
 ],
 "metadata": {
  "kernelspec": {
   "display_name": "Python 3",
   "language": "python",
   "name": "python3"
  },
  "language_info": {
   "codemirror_mode": {
    "name": "ipython",
    "version": 3
   },
   "file_extension": ".py",
   "mimetype": "text/x-python",
   "name": "python",
   "nbconvert_exporter": "python",
   "pygments_lexer": "ipython3",
   "version": "3.6.6"
  },
  "latex_envs": {
   "LaTeX_envs_menu_present": true,
   "autoclose": false,
   "autocomplete": true,
   "bibliofile": "biblio.bib",
   "cite_by": "apalike",
   "current_citInitial": 1,
   "eqLabelWithNumbers": true,
   "eqNumInitial": 1,
   "hotkeys": {
    "equation": "Ctrl-E",
    "itemize": "Ctrl-I"
   },
   "labels_anchors": false,
   "latex_user_defs": false,
   "report_style_numbering": false,
   "user_envs_cfg": false
  }
 },
 "nbformat": 4,
 "nbformat_minor": 2
}
